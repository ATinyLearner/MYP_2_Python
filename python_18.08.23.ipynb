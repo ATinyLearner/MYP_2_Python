{
 "cells": [
  {
   "cell_type": "code",
   "execution_count": 2,
   "metadata": {},
   "outputs": [
    {
     "data": {
      "text/plain": [
       "bool"
      ]
     },
     "execution_count": 2,
     "metadata": {},
     "output_type": "execute_result"
    }
   ],
   "source": [
    "# data types \n",
    "int # 1 12 56 990 -50\n",
    "float # 0.96 56.89 \n",
    "str # \"I love to eat ice cream\"\n",
    "bool # True  False  "
   ]
  },
  {
   "cell_type": "code",
   "execution_count": 7,
   "metadata": {},
   "outputs": [
    {
     "data": {
      "text/plain": [
       "float"
      ]
     },
     "execution_count": 7,
     "metadata": {},
     "output_type": "execute_result"
    }
   ],
   "source": [
    "type(0.96)"
   ]
  },
  {
   "cell_type": "code",
   "execution_count": 16,
   "metadata": {},
   "outputs": [
    {
     "name": "stdout",
     "output_type": "stream",
     "text": [
      "I am Avik\n",
      "12\n",
      "999 x 1589 = 1587411\n"
     ]
    }
   ],
   "source": [
    "print(\"I am Avik\")\n",
    "print(12)\n",
    "print(f\"999 x 1589 = {999*1589}\")"
   ]
  },
  {
   "cell_type": "code",
   "execution_count": 37,
   "metadata": {},
   "outputs": [
    {
     "name": "stdout",
     "output_type": "stream",
     "text": [
      "ramu wont get food for a week\n"
     ]
    }
   ],
   "source": [
    "# Ramu's case\n",
    "# Ramu wants a PS5\n",
    "ramu_marks=10\n",
    "if(ramu_marks>=90):\n",
    "    print(\"Ramu will get PS5!\")\n",
    "elif(ramu_marks>=70 and ramu_marks<90):\n",
    "    print(\"Ramu will get a football.\")\n",
    "elif(ramu_marks>=50 and ramu_marks<70):\n",
    "    print(\"Ramu will do 1000 pushups\")\n",
    "elif(ramu_marks>=30 and ramu_marks<50):\n",
    "    print(\"Ramu will get free chappal slaps\")\n",
    "elif(ramu_marks>=20 and ramu_marks<30):\n",
    "    print(\"ramu wont get food for a week\")\n",
    "else:\n",
    "    print(\"Ramu will be beaten to death!\")"
   ]
  },
  {
   "cell_type": "code",
   "execution_count": 27,
   "metadata": {},
   "outputs": [
    {
     "name": "stdout",
     "output_type": "stream",
     "text": [
      "This is zero.\n"
     ]
    }
   ],
   "source": [
    "num=-0\n",
    "\n",
    "if(num>0) :\n",
    "    print(f\"{num} is greater than 0.\")\n",
    "elif(num<0):\n",
    "    print(f\"{num} is lesser than 0.\")\n",
    "else:\n",
    "    print(f\"This is zero.\")\n"
   ]
  }
 ],
 "metadata": {
  "kernelspec": {
   "display_name": "Python 3.8.10 64-bit",
   "language": "python",
   "name": "python3"
  },
  "language_info": {
   "codemirror_mode": {
    "name": "ipython",
    "version": 3
   },
   "file_extension": ".py",
   "mimetype": "text/x-python",
   "name": "python",
   "nbconvert_exporter": "python",
   "pygments_lexer": "ipython3",
   "version": "3.8.10"
  },
  "orig_nbformat": 4,
  "vscode": {
   "interpreter": {
    "hash": "e7370f93d1d0cde622a1f8e1c04877d8463912d04d973331ad4851f04de6915a"
   }
  }
 },
 "nbformat": 4,
 "nbformat_minor": 2
}
